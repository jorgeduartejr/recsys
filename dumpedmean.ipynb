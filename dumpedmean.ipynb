{
 "cells": [
  {
   "cell_type": "code",
   "execution_count": 9,
   "metadata": {},
   "outputs": [
    {
     "name": "stdout",
     "output_type": "stream",
     "text": [
      "Média dos filmes:\n"
     ]
    },
    {
     "data": {
      "text/html": [
       "<div>\n",
       "<style scoped>\n",
       "    .dataframe tbody tr th:only-of-type {\n",
       "        vertical-align: middle;\n",
       "    }\n",
       "\n",
       "    .dataframe tbody tr th {\n",
       "        vertical-align: top;\n",
       "    }\n",
       "\n",
       "    .dataframe thead th {\n",
       "        text-align: right;\n",
       "    }\n",
       "</style>\n",
       "<table border=\"1\" class=\"dataframe\">\n",
       "  <thead>\n",
       "    <tr style=\"text-align: right;\">\n",
       "      <th></th>\n",
       "      <th>MovieID</th>\n",
       "      <th>RatingCount</th>\n",
       "      <th>AvgRating</th>\n",
       "    </tr>\n",
       "  </thead>\n",
       "  <tbody>\n",
       "    <tr>\n",
       "      <th>0</th>\n",
       "      <td>1</td>\n",
       "      <td>452</td>\n",
       "      <td>3.878319</td>\n",
       "    </tr>\n",
       "    <tr>\n",
       "      <th>1</th>\n",
       "      <td>2</td>\n",
       "      <td>131</td>\n",
       "      <td>3.206107</td>\n",
       "    </tr>\n",
       "    <tr>\n",
       "      <th>2</th>\n",
       "      <td>3</td>\n",
       "      <td>90</td>\n",
       "      <td>3.033333</td>\n",
       "    </tr>\n",
       "    <tr>\n",
       "      <th>3</th>\n",
       "      <td>4</td>\n",
       "      <td>209</td>\n",
       "      <td>3.550239</td>\n",
       "    </tr>\n",
       "    <tr>\n",
       "      <th>4</th>\n",
       "      <td>5</td>\n",
       "      <td>86</td>\n",
       "      <td>3.302326</td>\n",
       "    </tr>\n",
       "  </tbody>\n",
       "</table>\n",
       "</div>"
      ],
      "text/plain": [
       "   MovieID  RatingCount  AvgRating\n",
       "0        1          452   3.878319\n",
       "1        2          131   3.206107\n",
       "2        3           90   3.033333\n",
       "3        4          209   3.550239\n",
       "4        5           86   3.302326"
      ]
     },
     "metadata": {},
     "output_type": "display_data"
    },
    {
     "name": "stdout",
     "output_type": "stream",
     "text": [
      "Top 10 filmes com Damped Mean (k=30):\n",
      "     MovieID                             Title  DampedMean  RatingCount\n",
      "317      318           Schindler's List (1993)    4.380780          298\n",
      "63        64  Shawshank Redemption, The (1994)    4.357495          283\n",
      "482      483                 Casablanca (1942)    4.354930          243\n",
      "49        50                  Star Wars (1977)    4.317938          583\n",
      "11        12        Usual Suspects, The (1995)    4.299312          267\n",
      "407      408             Close Shave, A (1995)    4.287999          112\n",
      "602      603                Rear Window (1954)    4.279899          209\n",
      "168      169        Wrong Trousers, The (1993)    4.276323          118\n",
      "97        98  Silence of the Lambs, The (1991)    4.235466          390\n",
      "126      127             Godfather, The (1972)    4.232270          413\n"
     ]
    }
   ],
   "source": [
    "import pandas as pd\n",
    "\n",
    "# Carregar dados do arquivo CSV\n",
    "df = pd.read_csv('u.item', sep='|', encoding='latin-1', names=['MovieID', 'Title'], usecols=range(2))\n",
    "\n",
    "# Ler os dados de avaliações\n",
    "ratings_df = pd.read_csv('u.data', sep='\\t', names=['UserID', 'MovieID', 'Rating'], usecols=range(3))\n",
    "\n",
    "# Calcular a média e o número de avaliações por filme\n",
    "df_stats = ratings_df.groupby('MovieID').agg({'Rating': [pd.Series.count, pd.Series.mean]}).reset_index()\n",
    "df_stats.columns = ['MovieID', 'RatingCount', 'AvgRating']\n",
    "\n",
    "print(\"Média dos filmes:\")\n",
    "display(df_stats.head())\n",
    "\n",
    "# Adicionar a Damped Mean com k=30\n",
    "k = 30\n",
    "df_stats['DampedMean'] = (df_stats['RatingCount'] * df_stats['AvgRating'] + k * ratings_df['Rating'].mean()) / (df_stats['RatingCount'] + k)\n",
    "\n",
    "# Mesclar com os títulos dos filmes\n",
    "df_final = pd.merge(df_stats, df, on='MovieID')\n",
    "\n",
    "# Ordenar por Damped Mean e número de avaliações\n",
    "df_final_sorted = df_final.sort_values(by=['DampedMean', 'RatingCount'], ascending=[False, False])\n",
    "\n",
    "# Selecionar os 10 filmes com maiores Damped Mean e mais avaliações\n",
    "top_10_movies_damped = df_final_sorted.head(10)\n",
    "\n",
    "# Exibir a lista dos 10 filmes mais bem avaliados com Damped Mean\n",
    "print(\"Top 10 filmes com Damped Mean (k=30):\")\n",
    "print(top_10_movies_damped[['MovieID', 'Title', 'DampedMean', 'RatingCount']])\n",
    "\n",
    "\n",
    "\n"
   ]
  }
 ],
 "metadata": {
  "kernelspec": {
   "display_name": "Python 3",
   "language": "python",
   "name": "python3"
  },
  "language_info": {
   "codemirror_mode": {
    "name": "ipython",
    "version": 3
   },
   "file_extension": ".py",
   "mimetype": "text/x-python",
   "name": "python",
   "nbconvert_exporter": "python",
   "pygments_lexer": "ipython3",
   "version": "3.10.12"
  }
 },
 "nbformat": 4,
 "nbformat_minor": 2
}
