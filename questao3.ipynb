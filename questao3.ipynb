{
 "cells": [
  {
   "cell_type": "code",
   "execution_count": 4,
   "metadata": {},
   "outputs": [
    {
     "name": "stdout",
     "output_type": "stream",
     "text": [
      "Top 10 filmes com maior percentual positivo de notas:\n",
      "      MovieID                                 Title  PositivePercentage  \\\n",
      "796       814         Great Day in Harlem, A (1994)               100.0   \n",
      "1331     1449                Pather Panchali (1955)               100.0   \n",
      "1446     1674                     Mamma Roma (1962)               100.0   \n",
      "1334     1452              Lady of Burlesque (1943)               100.0   \n",
      "1337     1458          Damsel in Distress, A (1937)               100.0   \n",
      "1343     1467  Saint of Fort Washington, The (1993)               100.0   \n",
      "1034     1064                      Crossfire (1947)               100.0   \n",
      "1356     1482    Gate of Heavenly Peace, The (1995)               100.0   \n",
      "697       711         Substance of Fire, The (1996)               100.0   \n",
      "1367     1498                 Farmer & Chase (1995)               100.0   \n",
      "\n",
      "      PositiveCount  TotalCount  \n",
      "796               1           1  \n",
      "1331              8           8  \n",
      "1446              1           1  \n",
      "1334              1           1  \n",
      "1337              1           1  \n",
      "1343              2           2  \n",
      "1034              4           4  \n",
      "1356              1           1  \n",
      "697               1           1  \n",
      "1367              1           1  \n"
     ]
    }
   ],
   "source": [
    "import pandas as pd\n",
    "\n",
    "# Carregar dados do arquivo CSV (u.item contém informações dos filmes)\n",
    "df = pd.read_csv('u.item', sep='|', encoding='latin-1', names=['MovieID', 'Title'], usecols=range(2))\n",
    "\n",
    "# Ler os dados de avaliações do arquivo CSV (u.data contém as avaliações dos usuários)\n",
    "ratings_df = pd.read_csv('u.data', sep='\\t', names=['UserID', 'MovieID', 'Rating'], usecols=range(3))\n",
    "\n",
    "# Filtrar as avaliações positivas (notas >= 4)\n",
    "positive_ratings = ratings_df[ratings_df['Rating'] >= 4]\n",
    "\n",
    "# Contar o número total de avaliações por filme\n",
    "total_ratings_count = ratings_df.groupby('MovieID')['Rating'].count().reset_index()\n",
    "total_ratings_count.columns = ['MovieID', 'TotalCount']\n",
    "\n",
    "# Contar o número de avaliações positivas por filme\n",
    "positive_ratings_count = positive_ratings.groupby('MovieID')['Rating'].count().reset_index()\n",
    "positive_ratings_count.columns = ['MovieID', 'PositiveCount']\n",
    "\n",
    "# Mesclar os dados dos filmes com o número total de avaliações e avaliações positivas\n",
    "merged_df = pd.merge(total_ratings_count, positive_ratings_count, on='MovieID')\n",
    "\n",
    "# Calcular o percentual positivo de notas por filme\n",
    "merged_df['PositivePercentage'] = (merged_df['PositiveCount'] / merged_df['TotalCount']) * 100\n",
    "\n",
    "# Mesclar com os títulos dos filmes\n",
    "merged_df = pd.merge(merged_df, df, on='MovieID')\n",
    "\n",
    "# Ordenar os filmes pelo maior percentual positivo de notas\n",
    "top_positive_movies = merged_df.sort_values(by='PositivePercentage', ascending=False).head(10)\n",
    "\n",
    "# Exibir a lista dos filmes com o maior percentual positivo de notas\n",
    "print(\"Top 10 filmes com maior percentual positivo de notas:\")\n",
    "print(top_positive_movies[['MovieID', 'Title', 'PositivePercentage', 'PositiveCount', 'TotalCount']])\n"
   ]
  }
 ],
 "metadata": {
  "kernelspec": {
   "display_name": "Python 3",
   "language": "python",
   "name": "python3"
  },
  "language_info": {
   "codemirror_mode": {
    "name": "ipython",
    "version": 3
   },
   "file_extension": ".py",
   "mimetype": "text/x-python",
   "name": "python",
   "nbconvert_exporter": "python",
   "pygments_lexer": "ipython3",
   "version": "3.10.12"
  }
 },
 "nbformat": 4,
 "nbformat_minor": 2
}
